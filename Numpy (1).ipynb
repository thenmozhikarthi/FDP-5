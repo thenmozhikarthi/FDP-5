{
 "cells": [
  {
   "cell_type": "code",
   "execution_count": 1,
   "id": "4ccb0d0d-3c6a-49b5-a449-07d9c27cac55",
   "metadata": {},
   "outputs": [],
   "source": [
    "import numpy as np"
   ]
  },
  {
   "cell_type": "code",
   "execution_count": 2,
   "id": "7553dfaf-c24a-44a5-9662-17ea05578a12",
   "metadata": {},
   "outputs": [
    {
     "name": "stdout",
     "output_type": "stream",
     "text": [
      "[1 2 3 4 5]\n"
     ]
    }
   ],
   "source": [
    "arr1 = np.array([1, 2, 3, 4, 5])\n",
    "print(arr1)\n"
   ]
  },
  {
   "cell_type": "code",
   "execution_count": 3,
   "id": "fe4fdecb-0660-49b4-b6f3-5dbec76be06d",
   "metadata": {},
   "outputs": [
    {
     "name": "stdout",
     "output_type": "stream",
     "text": [
      "[0 1 2 3 4 5 6 7 8 9]\n"
     ]
    }
   ],
   "source": [
    "arr2 = np.arange(10)  # Creates an array with values from 0 to 9\n",
    "print(arr2)\n"
   ]
  },
  {
   "cell_type": "code",
   "execution_count": 4,
   "id": "52c3d413-a8ae-4515-8bb4-38df8b0fb1dc",
   "metadata": {},
   "outputs": [
    {
     "name": "stdout",
     "output_type": "stream",
     "text": [
      "[[0. 0. 0. 0.]\n",
      " [0. 0. 0. 0.]\n",
      " [0. 0. 0. 0.]]\n",
      "[[1. 1. 1.]\n",
      " [1. 1. 1.]]\n"
     ]
    }
   ],
   "source": [
    "arr_zeros = np.zeros((3, 4))  # Creates a 3x4 array of zeros\n",
    "arr_ones = np.ones((2, 3))    # Creates a 2x3 array of ones\n",
    "print(arr_zeros)\n",
    "print(arr_ones)\n"
   ]
  },
  {
   "cell_type": "code",
   "execution_count": 9,
   "id": "7eb271b0-7c93-4beb-a8e2-5e8e5b999242",
   "metadata": {},
   "outputs": [
    {
     "name": "stdout",
     "output_type": "stream",
     "text": [
      "12\n",
      "[[0. 0. 0. 0.]\n",
      " [0. 0. 0. 0.]\n",
      " [0. 0. 0. 0.]]\n",
      "int64\n"
     ]
    }
   ],
   "source": [
    "print(arr_zeros.size)  # Prints (5,), meaning it's a 1-dimensional array with 5 elements\n",
    "print(arr_zeros)\t\n",
    "print(arr2.dtype)  # Prints int64, indicating¬¬¬¬¬¬¬ the array contains 64-bit integers\n"
   ]
  },
  {
   "cell_type": "code",
   "execution_count": 12,
   "id": "c9ce5ae5-18c1-480c-8a90-cad014e3696d",
   "metadata": {},
   "outputs": [
    {
     "ename": "ValueError",
     "evalue": "operands could not be broadcast together with shapes (6,) (5,) ",
     "output_type": "error",
     "traceback": [
      "\u001b[1;31m-----------------------------------------------\u001b[0m",
      "\u001b[1;31mValueError\u001b[0m    Traceback (most recent call last)",
      "Cell \u001b[1;32mIn[12], line 9\u001b[0m\n\u001b[0;32m      2\u001b[0m arr4 \u001b[38;5;241m=\u001b[39m np\u001b[38;5;241m.\u001b[39marray([\u001b[38;5;241m10\u001b[39m, \u001b[38;5;241m20\u001b[39m, \u001b[38;5;241m30\u001b[39m, \u001b[38;5;241m40\u001b[39m, \u001b[38;5;241m50\u001b[39m])\n\u001b[0;32m      4\u001b[0m \u001b[38;5;66;03m# Element-wise addition\u001b[39;00m\n\u001b[0;32m      5\u001b[0m \u001b[38;5;66;03m#result_add = arr3 + arr4\u001b[39;00m\n\u001b[0;32m      6\u001b[0m \u001b[38;5;66;03m#print(result_add)\u001b[39;00m\n\u001b[0;32m      7\u001b[0m \n\u001b[0;32m      8\u001b[0m \u001b[38;5;66;03m# Element-wise multiplication\u001b[39;00m\n\u001b[1;32m----> 9\u001b[0m result_mul \u001b[38;5;241m=\u001b[39m \u001b[43marr3\u001b[49m\u001b[43m \u001b[49m\u001b[38;5;241;43m*\u001b[39;49m\u001b[43m \u001b[49m\u001b[43marr4\u001b[49m\n\u001b[0;32m     10\u001b[0m \u001b[38;5;28mprint\u001b[39m(result_mul)\n",
      "\u001b[1;31mValueError\u001b[0m: operands could not be broadcast together with shapes (6,) (5,) "
     ]
    }
   ],
   "source": [
    "arr3 = np.array([1, 2, 3, 4, 5,6])\n",
    "arr4 = np.array([10, 20, 30, 40, 50])\n",
    "\n",
    "# Element-wise addition\n",
    "result_add = arr3 + arr4\n",
    "print(result_add)\n",
    "\n",
    "# Element-wise multiplication\n",
    "result_mul = arr3 * arr4\n",
    "print(result_mul)\n"
   ]
  },
  {
   "cell_type": "code",
   "execution_count": 15,
   "id": "19f2c464-a95c-4d2d-b977-1f48819e6788",
   "metadata": {},
   "outputs": [
    {
     "name": "stdout",
     "output_type": "stream",
     "text": [
      "[1 2 3]\n",
      "[2 5]\n"
     ]
    }
   ],
   "source": [
    "arr5 = np.array([[1, 2, 3],\n",
    "                 [4, 5, 6]])\n",
    "\n",
    "# Slicing rows and columns\n",
    "print(arr5[0])    # Prints the first row: [1 2 3]\n",
    "print(arr5[:, 1]) # Prints the second column: [2 5 8]\n",
    "\n"
   ]
  },
  {
   "cell_type": "code",
   "execution_count": 16,
   "id": "f0a3bfbd-b7b4-46d7-924f-35e06f9069d9",
   "metadata": {},
   "outputs": [
    {
     "name": "stdout",
     "output_type": "stream",
     "text": [
      "[1.         1.41421356 1.73205081 2.         2.23606798]\n",
      "[  2.71828183   7.3890561   20.08553692  54.59815003 148.4131591 ]\n"
     ]
    }
   ],
   "source": [
    "\n",
    "arr6 = np.array([1, 2, 3, 4, 5])\n",
    "\n",
    "# Square root\n",
    "print(np.sqrt(arr6))\n",
    "# [1.         1.41421356 1.73205081 2.         2.23606798]\n",
    "\n",
    "# Exponential\n",
    "print(np.exp(arr6)) \n",
    "# [  2.71828183   7.3890561   20.08553692  54.59815003 148.4131591 ]\n"
   ]
  },
  {
   "cell_type": "code",
   "execution_count": null,
   "id": "b053ff1e-2f8e-498e-a226-c6a260b001ce",
   "metadata": {},
   "outputs": [],
   "source": []
  }
 ],
 "metadata": {
  "kernelspec": {
   "display_name": "Python 3 (ipykernel)",
   "language": "python",
   "name": "python3"
  },
  "language_info": {
   "codemirror_mode": {
    "name": "ipython",
    "version": 3
   },
   "file_extension": ".py",
   "mimetype": "text/x-python",
   "name": "python",
   "nbconvert_exporter": "python",
   "pygments_lexer": "ipython3",
   "version": "3.11.5"
  }
 },
 "nbformat": 4,
 "nbformat_minor": 5
}
