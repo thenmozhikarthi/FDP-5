{
  "nbformat": 4,
  "nbformat_minor": 0,
  "metadata": {
    "colab": {
      "provenance": []
    },
    "kernelspec": {
      "name": "python3",
      "display_name": "Python 3"
    },
    "language_info": {
      "name": "python"
    }
  },
  "cells": [
    {
      "cell_type": "markdown",
      "source": [
        "Data Analytics using Python"
      ],
      "metadata": {
        "id": "xPGXST6LzfnT"
      }
    },
    {
      "cell_type": "markdown",
      "source": [
        "DAY 1"
      ],
      "metadata": {
        "id": "cRdVE5qw5ywc"
      }
    },
    {
      "cell_type": "code",
      "execution_count": 3,
      "metadata": {
        "colab": {
          "base_uri": "https://localhost:8080/"
        },
        "id": "CiX74HQIMbdF",
        "outputId": "8ee33bc2-5ee1-4988-a050-289034d0fcdb"
      },
      "outputs": [
        {
          "output_type": "stream",
          "name": "stdout",
          "text": [
            "<class 'int'>\n"
          ]
        },
        {
          "output_type": "execute_result",
          "data": {
            "text/plain": [
              "float"
            ]
          },
          "metadata": {},
          "execution_count": 3
        }
      ],
      "source": [
        "a=10\n",
        "b=2.2\n",
        "print(type(a))\n",
        "type(b)\n",
        "#type(a)"
      ]
    },
    {
      "cell_type": "code",
      "source": [
        "s=False\n",
        "type(s)"
      ],
      "metadata": {
        "colab": {
          "base_uri": "https://localhost:8080/"
        },
        "id": "eySJoGeTQ6jJ",
        "outputId": "fd6b56f5-3f65-4553-98f8-481256f94688"
      },
      "execution_count": 4,
      "outputs": [
        {
          "output_type": "execute_result",
          "data": {
            "text/plain": [
              "bool"
            ]
          },
          "metadata": {},
          "execution_count": 4
        }
      ]
    },
    {
      "cell_type": "code",
      "source": [
        "#slicing and Striding\n",
        "str1=\"Python Programming\"\n",
        "print(str1[-1])\n",
        "print(len(str1))\n",
        "print(str1[1:6:1])\n",
        "print(str1[-1:6:-2])\n",
        "print(str1[-1:-6:-1])\n",
        "print(str1[-1:6:-2])\n",
        "print(str1[-1:-6:2])"
      ],
      "metadata": {
        "colab": {
          "base_uri": "https://localhost:8080/"
        },
        "id": "2Stdz5l2UBRA",
        "outputId": "9b288234-d8ce-43f5-8293-17ddb830afd4"
      },
      "execution_count": 5,
      "outputs": [
        {
          "output_type": "stream",
          "name": "stdout",
          "text": [
            "g\n",
            "18\n",
            "ython\n",
            "gimroP\n",
            "gnimm\n",
            "gimroP\n",
            "\n"
          ]
        }
      ]
    },
    {
      "cell_type": "code",
      "source": [
        "#To search a character or substring in given string it is used\n",
        "print(\"P\" in str1)\n",
        "print(\"thon\" in str1)\n",
        "print(\"thon Programming\" in str1)"
      ],
      "metadata": {
        "colab": {
          "base_uri": "https://localhost:8080/"
        },
        "id": "0-kI9GTQkgkv",
        "outputId": "0c7c5696-5989-4cf0-b3bb-bd1145aff070"
      },
      "execution_count": 6,
      "outputs": [
        {
          "output_type": "stream",
          "name": "stdout",
          "text": [
            "True\n",
            "True\n",
            "True\n"
          ]
        }
      ]
    },
    {
      "cell_type": "code",
      "source": [
        "#tuple\n",
        "t1=(1,\"python\",2.5)\n",
        "print(type(t1))\n",
        "print(t1)\n",
        "t2=(t1)\n",
        "t3=t1+t2\n",
        "print(type(t2))\n",
        "print(t2*4)\n",
        "print(t3)\n"
      ],
      "metadata": {
        "colab": {
          "base_uri": "https://localhost:8080/"
        },
        "id": "tARyXTnJq1K-",
        "outputId": "5e8e147f-90ae-4ef3-f9ce-0e598cc277ac"
      },
      "execution_count": 7,
      "outputs": [
        {
          "output_type": "stream",
          "name": "stdout",
          "text": [
            "<class 'tuple'>\n",
            "(1, 'python', 2.5)\n",
            "<class 'tuple'>\n",
            "(1, 'python', 2.5, 1, 'python', 2.5, 1, 'python', 2.5, 1, 'python', 2.5)\n",
            "(1, 'python', 2.5, 1, 'python', 2.5)\n"
          ]
        }
      ]
    },
    {
      "cell_type": "code",
      "source": [
        "#nested tuple\n",
        "tt1=(3,4),\n",
        "tt2=(4,5),\n",
        "tt3=tt1+tt2\n",
        "print(tt3)\n",
        "print(len(tt3))\n",
        "print(type(tt3))"
      ],
      "metadata": {
        "colab": {
          "base_uri": "https://localhost:8080/"
        },
        "id": "1PzAVKizuyY4",
        "outputId": "c256c986-df6f-479c-d5a6-704ebb02cf0f"
      },
      "execution_count": 8,
      "outputs": [
        {
          "output_type": "stream",
          "name": "stdout",
          "text": [
            "((3, 4), (4, 5))\n",
            "2\n",
            "<class 'tuple'>\n"
          ]
        }
      ]
    },
    {
      "cell_type": "code",
      "source": [
        "#List\n",
        "l1=[1,\"hi\",5.2,5.222]\n",
        "print(l1)\n",
        "print(type(l1))\n",
        "len(l1)\n",
        "l1[1]=\"hlo\"\n",
        "print(l1)"
      ],
      "metadata": {
        "colab": {
          "base_uri": "https://localhost:8080/"
        },
        "id": "S1KWCNTyvZOf",
        "outputId": "b8ae7b6f-26a2-4522-d8d9-e3ab801aa12a"
      },
      "execution_count": 9,
      "outputs": [
        {
          "output_type": "stream",
          "name": "stdout",
          "text": [
            "[1, 'hi', 5.2, 5.222]\n",
            "<class 'list'>\n",
            "[1, 'hlo', 5.2, 5.222]\n"
          ]
        }
      ]
    },
    {
      "cell_type": "code",
      "source": [
        "#sublist\n",
        "l2=[[2,3,6],[\"hi\",1.2],[4,\"python\",True]]\n",
        "print(l2)\n",
        "print(type(l2))\n",
        "print(l2[:])\n",
        "print(l2[1:-1])\n",
        "del(l2[2])\n",
        "l2.append(8)\n",
        "l2.extend([(1,2)])\n",
        "l2.insert(3,10)\n",
        "l2.remove(10)\n",
        "l2.pop()\n",
        "print(l2)"
      ],
      "metadata": {
        "colab": {
          "base_uri": "https://localhost:8080/"
        },
        "id": "WiqBf1AGy4tw",
        "outputId": "8fb676f5-227e-45a2-a158-ca907d0207ac"
      },
      "execution_count": 10,
      "outputs": [
        {
          "output_type": "stream",
          "name": "stdout",
          "text": [
            "[[2, 3, 6], ['hi', 1.2], [4, 'python', True]]\n",
            "<class 'list'>\n",
            "[[2, 3, 6], ['hi', 1.2], [4, 'python', True]]\n",
            "[['hi', 1.2]]\n",
            "[[2, 3, 6], ['hi', 1.2], 8]\n"
          ]
        }
      ]
    },
    {
      "cell_type": "markdown",
      "source": [
        "# DAY 2"
      ],
      "metadata": {
        "id": "aXP-D_HE52rr"
      }
    },
    {
      "cell_type": "code",
      "source": [
        "pip install numpy"
      ],
      "metadata": {
        "colab": {
          "base_uri": "https://localhost:8080/"
        },
        "id": "21CpbXOH6CST",
        "outputId": "a52d264c-1a42-4f2f-b5ea-d4f6c4d6cac2"
      },
      "execution_count": 11,
      "outputs": [
        {
          "output_type": "stream",
          "name": "stdout",
          "text": [
            "Requirement already satisfied: numpy in /usr/local/lib/python3.10/dist-packages (1.25.2)\n"
          ]
        }
      ]
    },
    {
      "cell_type": "code",
      "source": [
        "import numpy as np"
      ],
      "metadata": {
        "id": "KZvHwtiTE-Lz"
      },
      "execution_count": 12,
      "outputs": []
    },
    {
      "cell_type": "code",
      "source": [
        "#creating arrays\n",
        "arr1=np.array([1,2,4,5,6])\n",
        "print(arr1)\n",
        "type(arr1)"
      ],
      "metadata": {
        "colab": {
          "base_uri": "https://localhost:8080/"
        },
        "id": "oQ7uSzAlPXtJ",
        "outputId": "97739f8e-5bf7-49be-8b55-8c92071b3c55"
      },
      "execution_count": 13,
      "outputs": [
        {
          "output_type": "stream",
          "name": "stdout",
          "text": [
            "[1 2 4 5 6]\n"
          ]
        },
        {
          "output_type": "execute_result",
          "data": {
            "text/plain": [
              "numpy.ndarray"
            ]
          },
          "metadata": {},
          "execution_count": 13
        }
      ]
    },
    {
      "cell_type": "code",
      "source": [
        "#return arrays using forin loop\n",
        "for i in range(len(arr1)):\n",
        "  print(arr1)\n",
        "\n",
        "print(arr1.ndim)\n",
        "print(arr1[0])"
      ],
      "metadata": {
        "colab": {
          "base_uri": "https://localhost:8080/"
        },
        "id": "ISo3hNp8PxCZ",
        "outputId": "28f595de-828e-4d31-d444-f73c6c38d9a3"
      },
      "execution_count": 14,
      "outputs": [
        {
          "output_type": "stream",
          "name": "stdout",
          "text": [
            "[1 2 4 5 6]\n",
            "[1 2 4 5 6]\n",
            "[1 2 4 5 6]\n",
            "[1 2 4 5 6]\n",
            "[1 2 4 5 6]\n",
            "1\n",
            "1\n"
          ]
        }
      ]
    },
    {
      "cell_type": "code",
      "source": [
        "#arrange or return elements in arrays using numpy upto given count\n",
        "arr2=np.arange(10)\n",
        "arr2\n",
        "print(arr2)\n",
        "print(arr2*2)"
      ],
      "metadata": {
        "colab": {
          "base_uri": "https://localhost:8080/"
        },
        "id": "WHIx46jTQ8hR",
        "outputId": "0a194270-4afb-42cf-ec91-8d75e6a34d43"
      },
      "execution_count": 15,
      "outputs": [
        {
          "output_type": "stream",
          "name": "stdout",
          "text": [
            "[0 1 2 3 4 5 6 7 8 9]\n",
            "[ 0  2  4  6  8 10 12 14 16 18]\n"
          ]
        }
      ]
    },
    {
      "cell_type": "code",
      "source": [
        "#generating arrays with zeros and ones\n",
        "arr3=np.zeros((3,4))\n",
        "print(arr3)\n",
        "arr4=np.ones((5,6))\n",
        "print(arr4)\n",
        "arr4[1]=5\n",
        "arr4[2][4]=3\n",
        "print(arr4)\n",
        "print(arr4.ndim)\n",
        "print(arr4.shape)\n",
        "print(arr4[0,0])\n",
        "print(arr4.size,arr4.dtype)"
      ],
      "metadata": {
        "colab": {
          "base_uri": "https://localhost:8080/"
        },
        "id": "lcFUunpdRhuJ",
        "outputId": "cc7e4a0a-56c2-4425-f930-e76d2c4cf272"
      },
      "execution_count": 16,
      "outputs": [
        {
          "output_type": "stream",
          "name": "stdout",
          "text": [
            "[[0. 0. 0. 0.]\n",
            " [0. 0. 0. 0.]\n",
            " [0. 0. 0. 0.]]\n",
            "[[1. 1. 1. 1. 1. 1.]\n",
            " [1. 1. 1. 1. 1. 1.]\n",
            " [1. 1. 1. 1. 1. 1.]\n",
            " [1. 1. 1. 1. 1. 1.]\n",
            " [1. 1. 1. 1. 1. 1.]]\n",
            "[[1. 1. 1. 1. 1. 1.]\n",
            " [5. 5. 5. 5. 5. 5.]\n",
            " [1. 1. 1. 1. 3. 1.]\n",
            " [1. 1. 1. 1. 1. 1.]\n",
            " [1. 1. 1. 1. 1. 1.]]\n",
            "2\n",
            "(5, 6)\n",
            "1.0\n",
            "30 float64\n"
          ]
        }
      ]
    },
    {
      "cell_type": "code",
      "source": [
        "#array addition and multiplication\n",
        "mul=arr1*arr1\n",
        "mul\n",
        "print(mul,arr1+arr1)\n",
        "print(arr4[:,1])\n",
        "print(arr4[::-1,::-1])"
      ],
      "metadata": {
        "colab": {
          "base_uri": "https://localhost:8080/"
        },
        "id": "EAO_X3e1T8un",
        "outputId": "37c4ad84-1901-4555-e503-44531658bbfb"
      },
      "execution_count": 17,
      "outputs": [
        {
          "output_type": "stream",
          "name": "stdout",
          "text": [
            "[ 1  4 16 25 36] [ 2  4  8 10 12]\n",
            "[1. 5. 1. 1. 1.]\n",
            "[[1. 1. 1. 1. 1. 1.]\n",
            " [1. 1. 1. 1. 1. 1.]\n",
            " [1. 3. 1. 1. 1. 1.]\n",
            " [5. 5. 5. 5. 5. 5.]\n",
            " [1. 1. 1. 1. 1. 1.]]\n"
          ]
        }
      ]
    },
    {
      "cell_type": "code",
      "source": [
        "np.reshape(a=arr4,newshape=(3,10))"
      ],
      "metadata": {
        "colab": {
          "base_uri": "https://localhost:8080/"
        },
        "id": "vMkT8qwPX6jh",
        "outputId": "5daf0833-27a9-4707-a0a1-73a797762346"
      },
      "execution_count": 18,
      "outputs": [
        {
          "output_type": "execute_result",
          "data": {
            "text/plain": [
              "array([[1., 1., 1., 1., 1., 1., 5., 5., 5., 5.],\n",
              "       [5., 5., 1., 1., 1., 1., 3., 1., 1., 1.],\n",
              "       [1., 1., 1., 1., 1., 1., 1., 1., 1., 1.]])"
            ]
          },
          "metadata": {},
          "execution_count": 18
        }
      ]
    },
    {
      "cell_type": "code",
      "source": [
        "#array operations\n",
        "print(arr4*2,arr4**2, np.mean(arr4),np.std(arr4))\n",
        "print(np.log(arr4))"
      ],
      "metadata": {
        "colab": {
          "base_uri": "https://localhost:8080/"
        },
        "id": "Z1hSd75QYr_q",
        "outputId": "503e8295-a1b6-43b1-a155-8e0f3b8dc4c3"
      },
      "execution_count": 19,
      "outputs": [
        {
          "output_type": "stream",
          "name": "stdout",
          "text": [
            "[[ 2.  2.  2.  2.  2.  2.]\n",
            " [10. 10. 10. 10. 10. 10.]\n",
            " [ 2.  2.  2.  2.  6.  2.]\n",
            " [ 2.  2.  2.  2.  2.  2.]\n",
            " [ 2.  2.  2.  2.  2.  2.]] [[ 1.  1.  1.  1.  1.  1.]\n",
            " [25. 25. 25. 25. 25. 25.]\n",
            " [ 1.  1.  1.  1.  9.  1.]\n",
            " [ 1.  1.  1.  1.  1.  1.]\n",
            " [ 1.  1.  1.  1.  1.  1.]] 1.8666666666666667 1.6069294390925268\n",
            "[[0.         0.         0.         0.         0.         0.        ]\n",
            " [1.60943791 1.60943791 1.60943791 1.60943791 1.60943791 1.60943791]\n",
            " [0.         0.         0.         0.         1.09861229 0.        ]\n",
            " [0.         0.         0.         0.         0.         0.        ]\n",
            " [0.         0.         0.         0.         0.         0.        ]]\n"
          ]
        }
      ]
    },
    {
      "cell_type": "code",
      "source": [
        "#Mathematical operations in numpy\n",
        "from numpy import pi\n",
        "a1=np.array([[1,2],[3,4]],dtype=complex)\n",
        "a2=np.array([1,2,3],dtype='int32')\n",
        "print(a1)\n",
        "print(a2.dtype)\n",
        "np.linspace(0, 2, 9)\n",
        "x = np.linspace(0, 2 * pi, 100)\n",
        "f = np.sin(x)\n",
        "print(f)"
      ],
      "metadata": {
        "colab": {
          "base_uri": "https://localhost:8080/"
        },
        "id": "uE7QTTVVZ8NR",
        "outputId": "487be88a-32cc-42e0-d190-c20318cb5c9f"
      },
      "execution_count": 20,
      "outputs": [
        {
          "output_type": "stream",
          "name": "stdout",
          "text": [
            "[[1.+0.j 2.+0.j]\n",
            " [3.+0.j 4.+0.j]]\n",
            "int32\n",
            "[ 0.00000000e+00  6.34239197e-02  1.26592454e-01  1.89251244e-01\n",
            "  2.51147987e-01  3.12033446e-01  3.71662456e-01  4.29794912e-01\n",
            "  4.86196736e-01  5.40640817e-01  5.92907929e-01  6.42787610e-01\n",
            "  6.90079011e-01  7.34591709e-01  7.76146464e-01  8.14575952e-01\n",
            "  8.49725430e-01  8.81453363e-01  9.09631995e-01  9.34147860e-01\n",
            "  9.54902241e-01  9.71811568e-01  9.84807753e-01  9.93838464e-01\n",
            "  9.98867339e-01  9.99874128e-01  9.96854776e-01  9.89821442e-01\n",
            "  9.78802446e-01  9.63842159e-01  9.45000819e-01  9.22354294e-01\n",
            "  8.95993774e-01  8.66025404e-01  8.32569855e-01  7.95761841e-01\n",
            "  7.55749574e-01  7.12694171e-01  6.66769001e-01  6.18158986e-01\n",
            "  5.67059864e-01  5.13677392e-01  4.58226522e-01  4.00930535e-01\n",
            "  3.42020143e-01  2.81732557e-01  2.20310533e-01  1.58001396e-01\n",
            "  9.50560433e-02  3.17279335e-02 -3.17279335e-02 -9.50560433e-02\n",
            " -1.58001396e-01 -2.20310533e-01 -2.81732557e-01 -3.42020143e-01\n",
            " -4.00930535e-01 -4.58226522e-01 -5.13677392e-01 -5.67059864e-01\n",
            " -6.18158986e-01 -6.66769001e-01 -7.12694171e-01 -7.55749574e-01\n",
            " -7.95761841e-01 -8.32569855e-01 -8.66025404e-01 -8.95993774e-01\n",
            " -9.22354294e-01 -9.45000819e-01 -9.63842159e-01 -9.78802446e-01\n",
            " -9.89821442e-01 -9.96854776e-01 -9.99874128e-01 -9.98867339e-01\n",
            " -9.93838464e-01 -9.84807753e-01 -9.71811568e-01 -9.54902241e-01\n",
            " -9.34147860e-01 -9.09631995e-01 -8.81453363e-01 -8.49725430e-01\n",
            " -8.14575952e-01 -7.76146464e-01 -7.34591709e-01 -6.90079011e-01\n",
            " -6.42787610e-01 -5.92907929e-01 -5.40640817e-01 -4.86196736e-01\n",
            " -4.29794912e-01 -3.71662456e-01 -3.12033446e-01 -2.51147987e-01\n",
            " -1.89251244e-01 -1.26592454e-01 -6.34239197e-02 -2.44929360e-16]\n"
          ]
        }
      ]
    },
    {
      "cell_type": "code",
      "source": [
        "#plots\n",
        "from matplotlib import pyplot as plt\n",
        "b3=np.array([[17,18],[56,34],[76,88]])\n",
        "print(b3)\n",
        "#plt.figure(figsize=(8, 6))\n",
        "plt.title('Visualization of NumPy Array')\n",
        "plt.xlabel('Index')\n",
        "plt.ylabel('Value')\n",
        "plt.hist(b3, bins = [1, 10, 20, 30,\n",
        "                    40, 50, 60, 70,\n",
        "                    80, 90, 100])"
      ],
      "metadata": {
        "colab": {
          "base_uri": "https://localhost:8080/",
          "height": 594
        },
        "id": "kb5s2Kk2vFVA",
        "outputId": "38985051-ffd8-4241-e5ae-767b41ce762c"
      },
      "execution_count": 83,
      "outputs": [
        {
          "output_type": "stream",
          "name": "stdout",
          "text": [
            "[[17 18]\n",
            " [56 34]\n",
            " [76 88]]\n"
          ]
        },
        {
          "output_type": "execute_result",
          "data": {
            "text/plain": [
              "(array([[0., 1., 0., 0., 0., 1., 0., 1., 0., 0.],\n",
              "        [0., 1., 0., 1., 0., 0., 0., 0., 1., 0.]]),\n",
              " array([  1.,  10.,  20.,  30.,  40.,  50.,  60.,  70.,  80.,  90., 100.]),\n",
              " <a list of 2 BarContainer objects>)"
            ]
          },
          "metadata": {},
          "execution_count": 83
        },
        {
          "output_type": "display_data",
          "data": {
            "text/plain": [
              "<Figure size 640x480 with 1 Axes>"
            ],
            "image/png": "[encoded data removed]"
          },
          "metadata": {}
        }
      ]
    },
    {
      "cell_type": "code",
      "source": [
        "arr4[0,0]"
      ],
      "metadata": {
        "colab": {
          "base_uri": "https://localhost:8080/"
        },
        "id": "UaFiWgfawDL3",
        "outputId": "3e0ea5b3-ed1d-4f77-d4f6-8ba37f01222f"
      },
      "execution_count": 22,
      "outputs": [
        {
          "output_type": "execute_result",
          "data": {
            "text/plain": [
              "1.0"
            ]
          },
          "metadata": {},
          "execution_count": 22
        }
      ]
    },
    {
      "cell_type": "code",
      "source": [
        "#array within array\n",
        "b=np.array([[[1,2],[3,4]],[[5,6],[7,8]]])\n",
        "print(b)\n",
        "print(b[1,1,1])\n",
        "print(b.ndim)\n",
        "#np.full(b,2)\n",
        "np.full_like(b,4)\n"
      ],
      "metadata": {
        "colab": {
          "base_uri": "https://localhost:8080/"
        },
        "id": "nd3bF7RUyIcW",
        "outputId": "ebee49ba-ba5d-4e36-a1c9-57dc841a208a"
      },
      "execution_count": 23,
      "outputs": [
        {
          "output_type": "stream",
          "name": "stdout",
          "text": [
            "[[[1 2]\n",
            "  [3 4]]\n",
            "\n",
            " [[5 6]\n",
            "  [7 8]]]\n",
            "8\n",
            "3\n"
          ]
        },
        {
          "output_type": "execute_result",
          "data": {
            "text/plain": [
              "array([[[4, 4],\n",
              "        [4, 4]],\n",
              "\n",
              "       [[4, 4],\n",
              "        [4, 4]]])"
            ]
          },
          "metadata": {},
          "execution_count": 23
        }
      ]
    },
    {
      "cell_type": "code",
      "source": [
        "#Random numbers\n",
        "print(np.random.rand(2,15))\n",
        "print(np.random.randint(1,10))\n",
        "np.random.randint(b,80)"
      ],
      "metadata": {
        "colab": {
          "base_uri": "https://localhost:8080/"
        },
        "id": "-q_sM0sR1s_p",
        "outputId": "b64cdc65-5f73-46ae-9a33-fa083a8f680d"
      },
      "execution_count": 24,
      "outputs": [
        {
          "output_type": "stream",
          "name": "stdout",
          "text": [
            "[[0.11674391 0.67123181 0.81834349 0.23480107 0.13339787 0.86228776\n",
            "  0.67144858 0.2198371  0.4113854  0.615429   0.8422287  0.64039905\n",
            "  0.85887789 0.20539746 0.69861264]\n",
            " [0.58608207 0.53808082 0.1620794  0.99110827 0.83340236 0.04740908\n",
            "  0.09383447 0.73141321 0.52673464 0.28293402 0.10404367 0.56539789\n",
            "  0.00766761 0.14884632 0.72405675]]\n",
            "6\n"
          ]
        },
        {
          "output_type": "execute_result",
          "data": {
            "text/plain": [
              "array([[[73, 38],\n",
              "        [45, 47]],\n",
              "\n",
              "       [[67, 35],\n",
              "        [13, 64]]])"
            ]
          },
          "metadata": {},
          "execution_count": 24
        }
      ]
    },
    {
      "cell_type": "code",
      "source": [
        "m=np.ones((5,5))\n",
        "print(m)\n",
        "n=np.zeros((3,3))\n",
        "print(n)\n",
        "n[1,1]=9\n",
        "print(n)\n",
        "\n",
        "m[1:-1,1:-1] = n\n",
        "print(m)"
      ],
      "metadata": {
        "colab": {
          "base_uri": "https://localhost:8080/"
        },
        "id": "ukiqo-AI2sFn",
        "outputId": "b00edd7e-f517-452f-c04b-6a9117bf7fbf"
      },
      "execution_count": 25,
      "outputs": [
        {
          "output_type": "stream",
          "name": "stdout",
          "text": [
            "[[1. 1. 1. 1. 1.]\n",
            " [1. 1. 1. 1. 1.]\n",
            " [1. 1. 1. 1. 1.]\n",
            " [1. 1. 1. 1. 1.]\n",
            " [1. 1. 1. 1. 1.]]\n",
            "[[0. 0. 0.]\n",
            " [0. 0. 0.]\n",
            " [0. 0. 0.]]\n",
            "[[0. 0. 0.]\n",
            " [0. 9. 0.]\n",
            " [0. 0. 0.]]\n",
            "[[1. 1. 1. 1. 1.]\n",
            " [1. 0. 0. 0. 1.]\n",
            " [1. 0. 9. 0. 1.]\n",
            " [1. 0. 0. 0. 1.]\n",
            " [1. 1. 1. 1. 1.]]\n"
          ]
        }
      ]
    },
    {
      "cell_type": "code",
      "source": [
        "print(b)\n",
        "print (\"Row-wise maximum elements:\",b.max(axis = 1))\n",
        "print (\"Column-wise minimum elements:\",b.min(axis = 0))\n",
        "print (\"Sum of all array elements:\",b.sum())\n",
        "print (\"Cumulative sum along each row:\\n\",b.cumsum(axis = 1))"
      ],
      "metadata": {
        "colab": {
          "base_uri": "https://localhost:8080/"
        },
        "id": "HE3t1AFi801b",
        "outputId": "7ca6a05a-eaaf-4698-8f28-7e0903015e34"
      },
      "execution_count": 27,
      "outputs": [
        {
          "output_type": "stream",
          "name": "stdout",
          "text": [
            "[[[1 2]\n",
            "  [3 4]]\n",
            "\n",
            " [[5 6]\n",
            "  [7 8]]]\n",
            "Row-wise maximum elements: [[3 4]\n",
            " [7 8]]\n",
            "Column-wise minimum elements: [[1 2]\n",
            " [3 4]]\n",
            "Sum of all array elements: 36\n",
            "Cumulative sum along each row:\n",
            " [[[ 1  2]\n",
            "  [ 4  6]]\n",
            "\n",
            " [[ 5  6]\n",
            "  [12 14]]]\n"
          ]
        }
      ]
    },
    {
      "cell_type": "code",
      "source": [
        "#sorting arrays\n",
        "b=np.array([[5,2],[1,4]])\n",
        "print (\"Array elements in sorted order:\\n\",np.sort(b, axis = None))\n",
        "\n",
        "# sort array row-wise\n",
        "print (\"Row-wise sorted array:\\n\",np.sort(b, axis = 1))\n"
      ],
      "metadata": {
        "colab": {
          "base_uri": "https://localhost:8080/"
        },
        "id": "1sk-kyeXB2xV",
        "outputId": "5b6b392d-31b4-4448-81c3-b2dcefd44008"
      },
      "execution_count": 30,
      "outputs": [
        {
          "output_type": "stream",
          "name": "stdout",
          "text": [
            "Array elements in sorted order:\n",
            " [1 2 4 5]\n",
            "Row-wise sorted array:\n",
            " [[2 5]\n",
            " [1 4]]\n"
          ]
        }
      ]
    },
    {
      "cell_type": "code",
      "source": [
        "#transpose\n",
        "print(b)\n",
        "print(np.transpose(b))"
      ],
      "metadata": {
        "colab": {
          "base_uri": "https://localhost:8080/"
        },
        "id": "MBCdboAJCvZt",
        "outputId": "e00913a3-6628-4e37-8805-7d858582dcac"
      },
      "execution_count": 35,
      "outputs": [
        {
          "output_type": "stream",
          "name": "stdout",
          "text": [
            "[[5 2]\n",
            " [1 4]]\n",
            "[[5 1]\n",
            " [2 4]]\n"
          ]
        }
      ]
    },
    {
      "cell_type": "code",
      "source": [
        "#basic operations\n",
        "print(\"Array:\\n\",b)\n",
        "print(\"\\nMedian of array along axis 0:\",np.median(b))\n",
        "print(\"Mean of array along axis 0:\",np.mean(b))\n",
        "print(\"Average of array along axis 1:\",np.average(b))"
      ],
      "metadata": {
        "colab": {
          "base_uri": "https://localhost:8080/"
        },
        "id": "aPS1lKTmDGHF",
        "outputId": "7b54f20d-bb36-45e3-fe44-95ff9dd03571"
      },
      "execution_count": 39,
      "outputs": [
        {
          "output_type": "stream",
          "name": "stdout",
          "text": [
            "Array:\n",
            " [[5 2]\n",
            " [1 4]]\n",
            "\n",
            "Median of array along axis 0: 3.0\n",
            "Mean of array along axis 0: 3.0\n",
            "Average of array along axis 1: 3.0\n"
          ]
        }
      ]
    },
    {
      "cell_type": "code",
      "source": [
        "#Histogram without visualization in numpy\n",
        "c=np.histogram(b, bins=10, range=None, weights=None, density=None)\n",
        "print(c)"
      ],
      "metadata": {
        "colab": {
          "base_uri": "https://localhost:8080/"
        },
        "id": "V-VK_9BrEnB0",
        "outputId": "444a2d3f-b990-47c1-e060-ae1bb1b857ff"
      },
      "execution_count": 45,
      "outputs": [
        {
          "output_type": "stream",
          "name": "stdout",
          "text": [
            "(array([1, 0, 1, 0, 0, 0, 0, 1, 0, 1]), array([1. , 1.4, 1.8, 2.2, 2.6, 3. , 3.4, 3.8, 4.2, 4.6, 5. ]))\n"
          ]
        }
      ]
    },
    {
      "cell_type": "code",
      "source": [],
      "metadata": {
        "id": "DSeHOs6kF5P1"
      },
      "execution_count": null,
      "outputs": []
    },
    {
      "cell_type": "markdown",
      "source": [
        "DAY 3"
      ],
      "metadata": {
        "id": "7F9E8ozEF9OE"
      }
    },
    {
      "cell_type": "code",
      "source": [
        "# prompt: histogram with numpy\n",
        "\n",
        "import numpy as np\n",
        "import matplotlib.pyplot as plt\n",
        "\n",
        "# Create a random array of data\n",
        "data = np.random.rand(100)\n",
        "\n",
        "# Create a histogram with 10 bins\n",
        "hist, bins = np.histogram(data, bins=10)\n",
        "\n",
        "# Plot the histogram\n",
        "plt.hist(data, bins=10)\n",
        "plt.xlabel(\"Value\")\n",
        "plt.ylabel(\"Frequency\")\n",
        "plt.title(\"Histogram of Random Data\")\n",
        "plt.show()\n"
      ],
      "metadata": {
        "colab": {
          "base_uri": "https://localhost:8080/",
          "height": 472
        },
        "id": "W5j3IFdkGBP0",
        "outputId": "316e0c19-2f04-4872-a128-a5a1853af014"
      },
      "execution_count": 51,
      "outputs": [
        {
          "output_type": "display_data",
          "data": {
            "text/plain": [
              "<Figure size 640x480 with 1 Axes>"
            ],
            "image/png": "[encoded data removed]"
          },
          "metadata": {}
        }
      ]
    },
    {
      "cell_type": "code",
      "source": [
        "#broadcasting 1D Arrays\n",
        "import numpy as np\n",
        "a = np.array([20, 12, 19])\n",
        "print(a)\n",
        "b = 3\n",
        "print(b)\n",
        "c = a + b\n",
        "print(\"ID ARRAY BROADCASTING RESULT \\n\",c)\n",
        "\n",
        "#broadcasting 2D Arrays\n",
        "x = np.array([[11, 22, 33], [10, 20, 30]])\n",
        "print(\"\\n\",x)\n",
        "\n",
        "y = 4\n",
        "print(\"\\n\",y)\n",
        "\n",
        "z = x + y\n",
        "print(\"2D ARRAY BROADCASTING RESULT \\n\",z)"
      ],
      "metadata": {
        "colab": {
          "base_uri": "https://localhost:8080/"
        },
        "id": "D-RNbPJiHAVV",
        "outputId": "a422408b-0160-471e-d485-85011e0b2892"
      },
      "execution_count": 59,
      "outputs": [
        {
          "output_type": "stream",
          "name": "stdout",
          "text": [
            "[20 12 19]\n",
            "3\n",
            "ID ARRAY BROADCASTING RESULT \n",
            " [23 15 22]\n",
            "\n",
            " [[11 22 33]\n",
            " [10 20 30]]\n",
            "\n",
            " 4\n",
            "2D ARRAY BROADCASTING RESULT \n",
            " [[15 26 37]\n",
            " [14 24 34]]\n"
          ]
        }
      ]
    },
    {
      "cell_type": "code",
      "source": [
        "\n",
        "x=np.array([[5,2],[1,4]])\n",
        "y_sin = np.sin(x)\n",
        "y_cos = np.cos(x)\n",
        "\n",
        "# Plot the points using matplotlib\n",
        "plt.plot(x, y_sin)\n",
        "plt.plot(x, y_cos)\n",
        "plt.xlabel('x axis label')\n",
        "plt.ylabel('y axis label')\n",
        "plt.title('Sine and Cosine')\n",
        "plt.legend(['Sine', 'Cosine'])\n",
        "\n",
        "plt.show()"
      ],
      "metadata": {
        "colab": {
          "base_uri": "https://localhost:8080/",
          "height": 472
        },
        "id": "vUj5pFJ4KPlt",
        "outputId": "c0868c77-d862-4c2f-faf5-26cc9f36c2ef"
      },
      "execution_count": 63,
      "outputs": [
        {
          "output_type": "display_data",
          "data": {
            "text/plain": [
              "<Figure size 640x480 with 1 Axes>"
            ],
            "image/png": "[encoded data removed]"
          },
          "metadata": {}
        }
      ]
    },
    {
      "cell_type": "code",
      "source": [
        "import numpy as np\n",
        "from PIL import Image as im\n",
        "\n",
        "def main():\n",
        "\n",
        "\tarray = np.arange(0, 495496, 1, np.uint8)\n",
        "\tprint(type(array))\n",
        "\tprint(array.shape)\n",
        "\tarray = np.reshape(array, (1028, 482))\n",
        "\tprint(array.shape)\n",
        "\tprint(array)\n",
        "\tdata = im.fromarray(array)\n",
        "\tdata.save('sample.png')\n",
        "\n",
        "if __name__ == \"__main__\":\n",
        "  main()\n"
      ],
      "metadata": {
        "colab": {
          "base_uri": "https://localhost:8080/"
        },
        "id": "5gogMFr_NJOV",
        "outputId": "4fee6cb3-18ba-4bea-ff97-96751324e0f5"
      },
      "execution_count": 84,
      "outputs": [
        {
          "output_type": "stream",
          "name": "stdout",
          "text": [
            "<class 'numpy.ndarray'>\n",
            "(495496,)\n",
            "(1028, 482)\n",
            "[[  0   1   2 ... 223 224 225]\n",
            " [226 227 228 ... 193 194 195]\n",
            " [196 197 198 ... 163 164 165]\n",
            " ...\n",
            " [226 227 228 ... 193 194 195]\n",
            " [196 197 198 ... 163 164 165]\n",
            " [166 167 168 ... 133 134 135]]\n"
          ]
        }
      ]
    }
  ]
}