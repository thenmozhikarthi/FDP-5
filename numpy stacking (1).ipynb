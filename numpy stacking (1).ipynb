{
 "cells": [
  {
   "cell_type": "code",
   "execution_count": 7,
   "id": "04824372-6e7f-4e13-aa0c-118e25e8be21",
   "metadata": {},
   "outputs": [
    {
     "data": {
      "text/plain": [
       "(8, 2, 3)"
      ]
     },
     "execution_count": 7,
     "metadata": {},
     "output_type": "execute_result"
    }
   ],
   "source": [
    "import numpy as np\n",
    "arrays = [np.random.randn(2, 3)for _ in range(8)]\n",
    "np.stack(arrays, axis=0).shape\n",
    "\n",
    "\n"
   ]
  },
  {
   "cell_type": "code",
   "execution_count": 12,
   "id": "8d96181e-67d3-4ec1-9f38-07ded17e0cbc",
   "metadata": {},
   "outputs": [
    {
     "data": {
      "text/plain": [
       "array([[2, 3, 4],\n",
       "       [3, 4, 5]])"
      ]
     },
     "execution_count": 12,
     "metadata": {},
     "output_type": "execute_result"
    }
   ],
   "source": [
    "import numpy as np\n",
    "np.stack(arrays, axis=1).shape\n",
    "(2, 8, 3)\n",
    "\n",
    "np.stack(arrays, axis=2).shape\n",
    "(2, 3, 8)\n",
    "\n",
    "x = np.array([2, 3, 4])\n",
    "y = np.array([3, 4, 5])\n",
    "np.stack((x, y))\n",
    "\n",
    "\n"
   ]
  },
  {
   "cell_type": "code",
   "execution_count": 10,
   "id": "86768deb-d854-40c0-9fef-d457b377b1e2",
   "metadata": {},
   "outputs": [
    {
     "data": {
      "text/plain": [
       "array([[2, 3],\n",
       "       [3, 4],\n",
       "       [4, 5]])"
      ]
     },
     "execution_count": 10,
     "metadata": {},
     "output_type": "execute_result"
    }
   ],
   "source": [
    "#Numpy numpy.stack() function with axis parameter\n",
    "\n",
    "import numpy as np\n",
    "x = np.array([2, 3, 4])\n",
    "y = np.array([3, 4, 5])\n",
    "np.stack((x, y))\n",
    "\n",
    "np.stack((x, y), axis=-1)\n"
   ]
  },
  {
   "cell_type": "code",
   "execution_count": 13,
   "id": "9af6782e-bbd2-4a1a-b053-bfdc0780350a",
   "metadata": {},
   "outputs": [
    {
     "name": "stdout",
     "output_type": "stream",
     "text": [
      "Vertical stacking:\n",
      " [[1 2]\n",
      " [3 4]\n",
      " [5 6]\n",
      " [7 8]]\n",
      "\n",
      "Horizontal stacking:\n",
      " [[1 2 5 6]\n",
      " [3 4 7 8]]\n",
      "\n",
      "Column stacking:\n",
      " [[1 2 5]\n",
      " [3 4 6]]\n",
      "\n",
      "Concatenating to 2nd axis:\n",
      " [[1 2 5 6]\n",
      " [3 4 7 8]]\n"
     ]
    }
   ],
   "source": [
    "import numpy as np\n",
    "a = np.array([[1, 2],\n",
    "              [3, 4]])\n",
    "b = np.array([[5, 6],\n",
    "              [7, 8]])\n",
    "print(\"Vertical stacking:\\n\", np.vstack((a, b)))\n",
    "print(\"\\nHorizontal stacking:\\n\", np.hstack((a, b)))\n",
    "c = [5, 6]\n",
    "print(\"\\nColumn stacking:\\n\", np.column_stack((a, c)))\n",
    "print(\"\\nConcatenating to 2nd axis:\\n\", np.concatenate((a, b), 1))\n",
    "\n"
   ]
  },
  {
   "cell_type": "code",
   "execution_count": null,
   "id": "c1955f60-aef1-4a9e-a954-d81e5812c73f",
   "metadata": {},
   "outputs": [],
   "source": []
  }
 ],
 "metadata": {
  "kernelspec": {
   "display_name": "Python 3 (ipykernel)",
   "language": "python",
   "name": "python3"
  },
  "language_info": {
   "codemirror_mode": {
    "name": "ipython",
    "version": 3
   },
   "file_extension": ".py",
   "mimetype": "text/x-python",
   "name": "python",
   "nbconvert_exporter": "python",
   "pygments_lexer": "ipython3",
   "version": "3.11.5"
  }
 },
 "nbformat": 4,
 "nbformat_minor": 5
}
