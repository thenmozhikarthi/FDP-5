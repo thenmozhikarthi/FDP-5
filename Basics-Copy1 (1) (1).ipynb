{
 "cells": [
  {
   "cell_type": "code",
   "execution_count": 6,
   "id": "b87c44f9-5a58-432c-b680-78329e0e6912",
   "metadata": {},
   "outputs": [
    {
     "data": {
      "text/plain": [
       "int"
      ]
     },
     "execution_count": 6,
     "metadata": {},
     "output_type": "execute_result"
    }
   ],
   "source": [
    "month = 2\n",
    "height = 1.7\n",
    "\n",
    "type(month)\n"
   ]
  },
  {
   "cell_type": "code",
   "execution_count": 10,
   "id": "937b429d-3a41-4bc7-88a8-dc076624e234",
   "metadata": {},
   "outputs": [
    {
     "data": {
      "text/plain": [
       "str"
      ]
     },
     "execution_count": 10,
     "metadata": {},
     "output_type": "execute_result"
    }
   ],
   "source": [
    " x = \"Python programming\"\n",
    "type(x)\n"
   ]
  },
  {
   "cell_type": "code",
   "execution_count": 11,
   "id": "b2963202-f286-48e5-923b-64f286889618",
   "metadata": {},
   "outputs": [
    {
     "data": {
      "text/plain": [
       "bool"
      ]
     },
     "execution_count": 11,
     "metadata": {},
     "output_type": "execute_result"
    }
   ],
   "source": [
    "\n",
    "y = False\n",
    "type(y)\n"
   ]
  },
  {
   "cell_type": "code",
   "execution_count": 12,
   "id": "08ae5827-2c22-48d4-876f-f1f925d9e1d4",
   "metadata": {},
   "outputs": [
    {
     "name": "stdout",
     "output_type": "stream",
     "text": [
      "Python String\n",
      "Second String\n",
      "<class 'str'>\n",
      "<class 'str'>\n"
     ]
    }
   ],
   "source": [
    "mystr = \"Python String\" \n",
    "mystr1 = \"Second String\" \n",
    "print (mystr) \n",
    "print (mystr1) \n",
    "print(type(mystr)) \n",
    "print(type(mystr1))"
   ]
  },
  {
   "cell_type": "code",
   "execution_count": 13,
   "id": "e6915a72-9092-491e-8b47-f504bea2e026",
   "metadata": {},
   "outputs": [
    {
     "name": "stdout",
     "output_type": "stream",
     "text": [
      "PYTHON ROCKS\n",
      "12\n",
      "P\n",
      "Y\n"
     ]
    }
   ],
   "source": [
    "my_str = \"PYTHON ROCKS\" \n",
    "print (my_str) \n",
    "print(len(my_str))                                                                                                                                                                                                                                                                                                                                                                                                                                             \n",
    "print(my_str[0]) \n",
    "print(my_str[-11]) "
   ]
  },
  {
   "cell_type": "code",
   "execution_count": 16,
   "id": "c6da7639-8343-4bb0-858b-f1f0710772d9",
   "metadata": {},
   "outputs": [
    {
     "name": "stdout",
     "output_type": "stream",
     "text": [
      "P\n"
     ]
    },
    {
     "ename": "TypeError",
     "evalue": "'str' object does not support item assignment",
     "output_type": "error",
     "traceback": [
      "\u001b[1;31m---------------------------------------------------------------------------\u001b[0m",
      "\u001b[1;31mTypeError\u001b[0m                                 Traceback (most recent call last)",
      "Cell \u001b[1;32mIn[16], line 4\u001b[0m\n\u001b[0;32m      2\u001b[0m \u001b[38;5;28mprint\u001b[39m(my_str[\u001b[38;5;241m0\u001b[39m]) \n\u001b[0;32m      3\u001b[0m \u001b[38;5;66;03m# Will not work \u001b[39;00m\n\u001b[1;32m----> 4\u001b[0m \u001b[43mmy_str\u001b[49m\u001b[43m[\u001b[49m\u001b[38;5;241;43m0\u001b[39;49m\u001b[43m]\u001b[49m\u001b[38;5;241m=\u001b[39m\u001b[38;5;124m\"\u001b[39m\u001b[38;5;124mM\u001b[39m\u001b[38;5;124m\"\u001b[39m\n",
      "\u001b[1;31mTypeError\u001b[0m: 'str' object does not support item assignment"
     ]
    }
   ],
   "source": [
    "my_str = \"PYTHON ROCKS\" \n",
    "print(my_str[0]) \n",
    "# Will not work \n",
    "my_str[0]=\"M\"\n",
    "\n"
   ]
  },
  {
   "cell_type": "code",
   "execution_count": 17,
   "id": "f111f268-6056-46d8-8e3e-b1e546425139",
   "metadata": {},
   "outputs": [
    {
     "name": "stdout",
     "output_type": "stream",
     "text": [
      "Y\n",
      "True\n",
      "False\n",
      "True\n"
     ]
    }
   ],
   "source": [
    "my_str = \"PYTHON ROCKS\" \n",
    "print(my_str[1]) \n",
    "print(\"Y\" in my_str) \n",
    "print(\"A\" in my_str) \n",
    "print(\"ROCKS\" in my_str) \n"
   ]
  },
  {
   "cell_type": "code",
   "execution_count": 18,
   "id": "3a7ba85a-5bbd-4af3-9450-aac5f57f7471",
   "metadata": {},
   "outputs": [
    {
     "name": "stdout",
     "output_type": "stream",
     "text": [
      "12\n",
      "PYTHON \n",
      "PYTHON ROCK\n",
      "PYTHON ROCKS\n",
      "PYTHON\n"
     ]
    }
   ],
   "source": [
    "my_str = \"PYTHON ROCKS\" \n",
    "print(len(my_str)) \n",
    "print(my_str[0:7]) \n",
    "print(my_str[-12:-1]) \n",
    "print(my_str[-12:]) \n",
    "print(my_str[-12:-6])\n"
   ]
  },
  {
   "cell_type": "code",
   "execution_count": 19,
   "id": "8c77cc73-e378-41b4-8ca7-013996d4750e",
   "metadata": {},
   "outputs": [
    {
     "name": "stdout",
     "output_type": "stream",
     "text": [
      "(12, 25.4, 'PYTHON', 212)\n",
      "4\n",
      "<class 'tuple'>\n",
      "(-21, 224, 87.6, 'Hello', 22)\n",
      "5\n"
     ]
    }
   ],
   "source": [
    "mytup1=(12,25.4,\"PYTHON\",212) \n",
    "mytup2=(-21,224,87.6,\"Hello\",22) \n",
    "print(mytup1) \n",
    "print(len(mytup1)) \n",
    "print(type(mytup1)) \n",
    "print(mytup2) \n",
    "print(len(mytup2)) \n"
   ]
  },
  {
   "cell_type": "code",
   "execution_count": 21,
   "id": "9445bc82-e057-4aa2-93a9-772337fa50c9",
   "metadata": {},
   "outputs": [
    {
     "name": "stdout",
     "output_type": "stream",
     "text": [
      "<class 'tuple'>\n",
      "<class 'tuple'>\n",
      "()\n",
      "<class 'int'>\n",
      "212\n"
     ]
    }
   ],
   "source": [
    "print(type(mytup2))\n",
    "#To create empty or single element tuple \n",
    "emptup = () \n",
    "print(type(emptup)) \n",
    "print(emptup) \n",
    "onetup = (212,) \n",
    "print(type(onetup)) \n",
    "print(onetup) \n"
   ]
  },
  {
   "cell_type": "code",
   "execution_count": 22,
   "id": "d4b66561-8aee-4afa-bec0-f5df96ddb09c",
   "metadata": {},
   "outputs": [
    {
     "name": "stdout",
     "output_type": "stream",
     "text": [
      "The original tuple 1 : ((3, 4),)\n",
      "The original tuple 2 : ((5, 6),)\n",
      "Tuples after Concatenating : ((3, 4), (5, 6))\n"
     ]
    }
   ],
   "source": [
    "# Python3 code to demonstrate working of\n",
    "# Concatenating tuples to nested tuples\n",
    "# using + operator + \", \" operator during initialization\n",
    "\n",
    "# initialize tuples\n",
    "test_tup1 = (3, 4),\n",
    "test_tup2 = (5, 6),\n",
    "\n",
    "# printing original tuples\n",
    "print(\"The original tuple 1 : \" + str(test_tup1))\n",
    "print(\"The original tuple 2 : \" + str(test_tup2))\n",
    "\n",
    "# Concatenating tuples to nested tuples\n",
    "# using + operator + \", \" operator during initialization\n",
    "res = test_tup1 + test_tup2\n",
    "\n",
    "# printing result\n",
    "print(\"Tuples after Concatenating : \" + str(res))\n"
   ]
  },
  {
   "cell_type": "code",
   "execution_count": 24,
   "id": "960e8b38-b818-431d-a0cf-56e130730e02",
   "metadata": {
    "jupyter": {
     "source_hidden": true
    }
   },
   "outputs": [
    {
     "name": "stdout",
     "output_type": "stream",
     "text": [
      "The original tuple : (1, 3)\n",
      "The duplicated tuple elements are : ((1, 3), (1, 3), (1, 3), (1, 3))\n"
     ]
    }
   ],
   "source": [
    "# Python3 code to demonstrate working of\n",
    "# Repeating tuples N times\n",
    "# using * operator\n",
    " \n",
    "# initialize tuple \n",
    "test_tup = (1, 3)\n",
    " \n",
    "# printing original tuple \n",
    "print(\"The original tuple : \" + str(test_tup))# initialize N \n",
    "N = 4\n",
    " \n",
    "# Repeating tuples N times\n",
    "# using * operator\n",
    "res = ((test_tup, ) * N)\n",
    " \n",
    "# printing result\n",
    "print(\"The duplicated tuple elements are : \" + str(res))"
   ]
  },
  {
   "cell_type": "code",
   "execution_count": 25,
   "id": "c53ba261-e191-4250-9ef3-5b79d47efb26",
   "metadata": {},
   "outputs": [
    {
     "data": {
      "text/plain": [
       "[1.73, 1.68, 1.71, 1.89]"
      ]
     },
     "execution_count": 25,
     "metadata": {},
     "output_type": "execute_result"
    }
   ],
   "source": [
    "[1.73, 1.68, 1.71, 1.89]\n",
    "[1.73, 1.68, 1.71, 1.89]\n",
    "fam = [1.73, 1.68, 1.71,1.89]\n",
    "fam\n"
   ]
  },
  {
   "cell_type": "code",
   "execution_count": 26,
   "id": "93b48671-bc8a-4a5d-948e-613ad9cb494c",
   "metadata": {},
   "outputs": [
    {
     "data": {
      "text/plain": [
       "list"
      ]
     },
     "execution_count": 26,
     "metadata": {},
     "output_type": "execute_result"
    }
   ],
   "source": [
    "fam1 = [\"liz\",1.73,\"mom\",1.71,\"dad\",1.89]\n",
    "fam1\n",
    "type(fam1)\n"
   ]
  },
  {
   "cell_type": "code",
   "execution_count": 28,
   "id": "b0c032f5-9058-475b-bc4a-8787e851f93d",
   "metadata": {},
   "outputs": [
    {
     "data": {
      "text/plain": [
       "[['liz', 1.73], ['emma', 1.68], ['mom', 1.71], ['dad', 1.89]]"
      ]
     },
     "execution_count": 28,
     "metadata": {},
     "output_type": "execute_result"
    }
   ],
   "source": [
    "#List of lists\n",
    "fam2 = [[\"liz\", 1.73],\n",
    "\t\t\t\t[\"emma\", 1.68],\n",
    "\t\t\t\t[\"mom\", 1.71],\n",
    "\t\t\t\t[\"dad\", 1.89]]\n",
    "fam2\n",
    "\n",
    "\n",
    "#type(fam2)\n"
   ]
  },
  {
   "cell_type": "code",
   "execution_count": 29,
   "id": "5de5fd13-0288-4611-acf4-87ed7a5c853b",
   "metadata": {},
   "outputs": [
    {
     "data": {
      "text/plain": [
       "['liz', 1.73, 'mom', 1.71, 'dad', 1.89]"
      ]
     },
     "execution_count": 29,
     "metadata": {},
     "output_type": "execute_result"
    }
   ],
   "source": [
    "fam = [\"liz\", 1.73,\"mom\", 1.71,\"dad\", 1.89]\n",
    "fam\n"
   ]
  },
  {
   "cell_type": "code",
   "execution_count": 30,
   "id": "f82cf983-a661-4bfd-8921-2153b3599c60",
   "metadata": {},
   "outputs": [
    {
     "data": {
      "text/plain": [
       "1.71"
      ]
     },
     "execution_count": 30,
     "metadata": {},
     "output_type": "execute_result"
    }
   ],
   "source": [
    "#Out[2]: ['liz',1.73,'mom', 1.71, 'dad',1.89]\n",
    "#Index : \t0 \t 1 \t 2 \t  3 \t   4 \t   5\n",
    "#\t\t     -6\t-5    -4    -3\t  -2\t  -1\n",
    "fam[3]\n",
    "#fam[-2]\n",
    "#fam[4]\n",
    "#‘dad’ \n"
   ]
  },
  {
   "cell_type": "code",
   "execution_count": 31,
   "id": "31c8c7c3-b665-41a6-9642-8baad349fa86",
   "metadata": {},
   "outputs": [
    {
     "data": {
      "text/plain": [
       "['liz', 1.73, 'mom', 1.71, 'dad', 1.89]"
      ]
     },
     "execution_count": 31,
     "metadata": {},
     "output_type": "execute_result"
    }
   ],
   "source": [
    "fam = [\"liz\", 1.73,\"mom\", 1.71,\"dad\", 1.89]\n",
    "fam"
   ]
  },
  {
   "cell_type": "code",
   "execution_count": 32,
   "id": "ae284b64-8c6d-4502-ae8b-8f1af6f82fca",
   "metadata": {},
   "outputs": [
    {
     "data": {
      "text/plain": [
       "[1.71, 'dad']"
      ]
     },
     "execution_count": 32,
     "metadata": {},
     "output_type": "execute_result"
    }
   ],
   "source": [
    "#Out[2]: ['liz',1.73,'mom', 1.71, 'dad',1.89]\n",
    "#Index :    0    1 \t   2 \t   3 \t   4 \t   5\n",
    "\n",
    "fam[3:5]\n",
    "#fam[:4]\n",
    "#fam[3:]"
   ]
  },
  {
   "cell_type": "code",
   "execution_count": 33,
   "id": "3d56672a-9a23-4602-8f8a-31f689ce139f",
   "metadata": {},
   "outputs": [
    {
     "data": {
      "text/plain": [
       "['lisa', 1.74, 'mom', 1.71, 'dad', 1.86]"
      ]
     },
     "execution_count": 33,
     "metadata": {},
     "output_type": "execute_result"
    }
   ],
   "source": [
    "fam = [\"liz\", 1.73,\"mom\", 1.71, \t\t\t    \"dad\", 1.89]\n",
    "fam\n",
    "#fam[5] = 1.86\n",
    "#fam\n",
    "#fam[0:2] = [\"lisa\", 1.74]\n",
    "#fam\n",
    "\n"
   ]
  },
  {
   "cell_type": "code",
   "execution_count": null,
   "id": "6a08b1e3-374a-4313-af09-41fffe0b75a9",
   "metadata": {},
   "outputs": [],
   "source": [
    "fam + [\"me\", 1.79]\t   #adding elements"
   ]
  },
  {
   "cell_type": "code",
   "execution_count": 34,
   "id": "580fb66c-5991-43ba-b6cf-a589031c81a3",
   "metadata": {},
   "outputs": [
    {
     "data": {
      "text/plain": [
       "['lisa', 1.74, 'mom', 1.71, 1.86]"
      ]
     },
     "execution_count": 34,
     "metadata": {},
     "output_type": "execute_result"
    }
   ],
   "source": [
    "del(fam[4])\t\t #removing elements\n",
    "fam"
   ]
  },
  {
   "cell_type": "code",
   "execution_count": 35,
   "id": "c3c522e4-109d-47a1-8c87-07c2c6b26cf3",
   "metadata": {},
   "outputs": [
    {
     "data": {
      "text/plain": [
       "[1.73, 1.68, 1.71, 1.89]"
      ]
     },
     "execution_count": 35,
     "metadata": {},
     "output_type": "execute_result"
    }
   ],
   "source": [
    "a = [1.73, 1.68, 1.71, 1.89]\n",
    "a\n",
    "#max(a)\n",
    "#type(a)"
   ]
  },
  {
   "cell_type": "code",
   "execution_count": 37,
   "id": "96610d15-90fb-45dd-8ae5-54fffcc84a92",
   "metadata": {},
   "outputs": [
    {
     "data": {
      "text/plain": [
       "2.0"
      ]
     },
     "execution_count": 37,
     "metadata": {},
     "output_type": "execute_result"
    }
   ],
   "source": [
    "round(1.68, 1)\n",
    "\n",
    "#round(1.68)\n",
    "#help(round)   # opens up documentation\n"
   ]
  },
  {
   "cell_type": "code",
   "execution_count": 38,
   "id": "0dc8cd33-7382-4896-9a98-8dbbee1e2847",
   "metadata": {},
   "outputs": [
    {
     "data": {
      "text/plain": [
       "['liz', 1.73, 'mom', 1.71, 'dad', 1.89]"
      ]
     },
     "execution_count": 38,
     "metadata": {},
     "output_type": "execute_result"
    }
   ],
   "source": [
    "fam = [\"liz\", 1.73,\"mom\", 1.71,\"dad\", 1.89]\n",
    "fam\n",
    "#fam.index(\"mom\")  \t# list method\n",
    "#person = ‘liz’\n",
    "#person\n",
    "#person.capitalize() \t# str method\n",
    "\n"
   ]
  },
  {
   "cell_type": "code",
   "execution_count": 40,
   "id": "d699a667-b455-4411-9868-4c3e69561fda",
   "metadata": {},
   "outputs": [
    {
     "data": {
      "text/plain": [
       "(1-3j)"
      ]
     },
     "execution_count": 40,
     "metadata": {},
     "output_type": "execute_result"
    }
   ],
   "source": [
    "x = 175 \n",
    "bin(x)\n",
    "\n",
    "#x.bit_length()\t\t# int method\n",
    "\n",
    "\n",
    "#y = 1+3j\n",
    "#y\n",
    "#y.conjugate()\t\t# complex method\n"
   ]
  },
  {
   "cell_type": "code",
   "execution_count": 41,
   "id": "56c47bb9-03f5-4eb7-8732-deef588ab839",
   "metadata": {},
   "outputs": [
    {
     "data": {
      "text/plain": [
       "True"
      ]
     },
     "execution_count": 41,
     "metadata": {},
     "output_type": "execute_result"
    }
   ],
   "source": [
    "y=7\n",
    "y <= 7 or y > 13\n",
    "True\n"
   ]
  },
  {
   "cell_type": "code",
   "execution_count": 42,
   "id": "2632c7c5-bf50-4955-89be-8882d91de284",
   "metadata": {},
   "outputs": [
    {
     "data": {
      "text/plain": [
       "False"
      ]
     },
     "execution_count": 42,
     "metadata": {},
     "output_type": "execute_result"
    }
   ],
   "source": [
    "y == 7 and y > 13\n",
    "#not True\n",
    "#not False"
   ]
  },
  {
   "cell_type": "code",
   "execution_count": 43,
   "id": "c7a25374-8a68-4711-beb4-dbb5df7bcaab",
   "metadata": {},
   "outputs": [
    {
     "name": "stdout",
     "output_type": "stream",
     "text": [
      "z is even\n"
     ]
    }
   ],
   "source": [
    "z = 4\n",
    "if z % 2 == 0 :\n",
    "    print(\"z is even\")"
   ]
  },
  {
   "cell_type": "code",
   "execution_count": null,
   "id": "165d963e-317d-4cf3-89d4-c022b4385c0a",
   "metadata": {},
   "outputs": [],
   "source": []
  }
 ],
 "metadata": {
  "kernelspec": {
   "display_name": "Python 3 (ipykernel)",
   "language": "python",
   "name": "python3"
  },
  "language_info": {
   "codemirror_mode": {
    "name": "ipython",
    "version": 3
   },
   "file_extension": ".py",
   "mimetype": "text/x-python",
   "name": "python",
   "nbconvert_exporter": "python",
   "pygments_lexer": "ipython3",
   "version": "3.11.5"
  }
 },
 "nbformat": 4,
 "nbformat_minor": 5
}
